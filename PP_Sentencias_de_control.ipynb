{
 "cells": [
  {
   "cell_type": "code",
   "execution_count": 23,
   "metadata": {},
   "outputs": [
    {
     "name": "stdout",
     "output_type": "stream",
     "text": [
      "El número es negativo\n"
     ]
    }
   ],
   "source": [
    "#Verificar si un número es positivo, negativo o cero\n",
    "# Descripción: Dado un número, verifica si es positivo, negativo o cero.\n",
    "número = -15\n",
    "if número > 0:\n",
    "    print(\"El número es positivo\")\n",
    "elif número == 0:\n",
    "    print (\"El número es 0\")\n",
    "else:\n",
    "    print (\"El número es negativo\")"
   ]
  },
  {
   "cell_type": "code",
   "execution_count": 24,
   "metadata": {},
   "outputs": [
    {
     "name": "stdout",
     "output_type": "stream",
     "text": [
      "Es impar\n"
     ]
    }
   ],
   "source": [
    "# 2. Verificar si un número es par o impar\n",
    "# Descripción: Dado un número, verifica si es par o impar.\n",
    "if número == 0:\n",
    "    print (\"Es 0\")\n",
    "elif número %2 == 0:\n",
    "    print(\"Es par\")\n",
    "else:\n",
    "    print(\"Es impar\")"
   ]
  },
  {
   "cell_type": "code",
   "execution_count": 27,
   "metadata": {},
   "outputs": [
    {
     "name": "stdout",
     "output_type": "stream",
     "text": [
      "Tienes que estudiar un poquito más\n"
     ]
    }
   ],
   "source": [
    "#3. Verificar si un estudiante aprobó o suspendió un examen\n",
    "# Descripción: Dada la calificación de un estudiante en un examen, \n",
    "# verifica si aprobó o suspendió (si la calificación es mayor o igual a 60 se considera aprobado).\n",
    "Calificación = 40\n",
    "if Calificación >= 60:\n",
    "    print(\"Estás aprobada\")\n",
    "else:\n",
    "    print(\"Tienes que estudiar un poquito más\")"
   ]
  },
  {
   "cell_type": "code",
   "execution_count": 29,
   "metadata": {},
   "outputs": [
    {
     "data": {
      "text/plain": [
       "12400"
      ]
     },
     "execution_count": 29,
     "metadata": {},
     "output_type": "execute_result"
    }
   ],
   "source": [
    "#4. Calcular el máximo entre dos números\n",
    "# Descripción: Dados dos números, encuentra el máximo entre ellos.\n",
    "números_lista = [12398, 12400]\n",
    "max(números_lista)"
   ]
  },
  {
   "cell_type": "code",
   "execution_count": 32,
   "metadata": {},
   "outputs": [
    {
     "name": "stdout",
     "output_type": "stream",
     "text": [
      "Es una vocal\n"
     ]
    }
   ],
   "source": [
    "#5 Verificar si una letra es una vocal o una consonante\n",
    "# Descripción: Dada una letra, verifica si es una vocal o una consonante.\n",
    "vocales_lista = [\"a\", \"e\", \"i\", \"o\", \"u\"]\n",
    "letra = \"e\" \n",
    "if letra in vocales_lista:\n",
    "    print(\"Es una vocal\")\n",
    "else:\n",
    "    print(\"Es una consonante\")"
   ]
  },
  {
   "cell_type": "code",
   "execution_count": 35,
   "metadata": {},
   "outputs": [
    {
     "name": "stdout",
     "output_type": "stream",
     "text": [
      "El total de la compra es de 90\n"
     ]
    }
   ],
   "source": [
    "#6 Calcular el descuento en una compra según el monto total\n",
    "# Descripción: Dado el monto total de una compra, calcula el descuento aplicado \n",
    "# según las siguientes condiciones: si el monto es mayor o igual a $100, \n",
    "# aplica un descuento del 10%; de lo contrario, no aplica ningún descuento.\n",
    "total_compra = 90\n",
    "if total_compra >= 100:\n",
    "    print(f\"El total de la compra aplicando el descuento es {total_compra-(total_compra*0.10)}\")\n",
    "else:\n",
    "    print(f\"El total de la compra es de {total_compra}\")"
   ]
  },
  {
   "cell_type": "code",
   "execution_count": 65,
   "metadata": {},
   "outputs": [
    {
     "name": "stdout",
     "output_type": "stream",
     "text": [
      "El año no es bisiesto\n"
     ]
    }
   ],
   "source": [
    "#7 Verificar si un año es bisiesto o no\n",
    "# Descripción: Dado un año, verifica si es bisiesto o no (un año es bisiesto si es divisible entre 4, \n",
    "# excepto aquellos divisibles entre 100 pero no entre 400).\n",
    "año = 2025\n",
    "if año % 4 == 0:\n",
    "    if año % 100 == 0 and año % 400 != 0: \n",
    "        print(\"El año no es bisiesto\")\n",
    "    else:\n",
    "        print(\"El año es bisiesto\")\n",
    "else:\n",
    "    print(\"El año no es bisiesto\")"
   ]
  },
  {
   "cell_type": "code",
   "execution_count": null,
   "metadata": {},
   "outputs": [],
   "source": [
    "bisiesto - /4\n",
    "    - /100 no bisiesto\n",
    "        - NO /400 no bisiesto"
   ]
  }
 ],
 "metadata": {
  "kernelspec": {
   "display_name": "Python 3",
   "language": "python",
   "name": "python3"
  },
  "language_info": {
   "codemirror_mode": {
    "name": "ipython",
    "version": 3
   },
   "file_extension": ".py",
   "mimetype": "text/x-python",
   "name": "python",
   "nbconvert_exporter": "python",
   "pygments_lexer": "ipython3",
   "version": "3.9.6"
  }
 },
 "nbformat": 4,
 "nbformat_minor": 2
}
